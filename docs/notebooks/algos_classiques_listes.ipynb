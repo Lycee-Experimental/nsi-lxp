{
  "metadata": {
    "language_info": {
      "codemirror_mode": {
        "name": "python",
        "version": 3
      },
      "file_extension": ".py",
      "mimetype": "text/x-python",
      "name": "python",
      "nbconvert_exporter": "python",
      "pygments_lexer": "ipython3",
      "version": "3.8"
    },
    "kernelspec": {
      "name": "python",
      "display_name": "Python (Pyodide)",
      "language": "python"
    }
  },
  "nbformat_minor": 4,
  "nbformat": 4,
  "cells": [
    {
      "cell_type": "code",
      "source": "import algos_classiques_listes as al\n\nhelp(al.dans_liste)\n\nprint(al.dans_liste(2, [1, 2, 3]))\n\nprint(al.max_liste([1, 2, 3]))\n\nprint(al.moy_liste([1, 2, 3]))\n\nprint(al.indice_min_liste([1, 2, 3]))\n\nprint(al.card_val_liste(2, [2, 2, 2]))\n\nprint(al.supp_liste(1, [2, 1, 4, 1, 3]))",
      "metadata": {
        "trusted": true
      },
      "execution_count": 1,
      "outputs": [
        {
          "name": "stdout",
          "text": "Help on function dans_liste in module algos_classiques_listes:\n\ndans_liste(x, L)\n    Cette fonction permet de rechercher si un élément est dans une liste ou non.\n    \n    param x : Elément recherché (float)\n    param L : Liste pour la recherche (list)\n    return : présence ou non (bool)\n    \n    Exemple :\n    \n    >>> dans_liste(2, [1, 2, 3])\n    True\n    >>> dans_liste(4, [1, 2, 3])\n    False\n\nTrue\n3\n2.0\n0\n3\n[2, 4, 1, 3]\n",
          "output_type": "stream"
        }
      ]
    },
    {
      "cell_type": "code",
      "source": "",
      "metadata": {},
      "execution_count": null,
      "outputs": []
    }
  ]
}